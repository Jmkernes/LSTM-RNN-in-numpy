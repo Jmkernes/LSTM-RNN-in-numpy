{
 "cells": [
  {
   "cell_type": "code",
   "execution_count": 67,
   "metadata": {},
   "outputs": [
    {
     "name": "stdout",
     "output_type": "stream",
     "text": [
      "The autoreload extension is already loaded. To reload it, use:\n",
      "  %reload_ext autoreload\n",
      "data has 773754 characters, 88 unique.\n"
     ]
    }
   ],
   "source": [
    "#auto-reloading external modules\n",
    "import autoreload\n",
    "%load_ext autoreload\n",
    "%autoreload 2\n",
    "\n",
    "from layers import *\n",
    "from RNNs import *\n",
    "from solver import *\n",
    "import numpy as np\n",
    "\n",
    "# Take input text file and output array of integers for each character into variable \"data\"\n",
    "data = open('pride.txt', 'r').read() # should be simple plain text file\n",
    "chars = list(set(data))\n",
    "data_size, vocab_dim = len(data), len(chars)\n",
    "print(f'There are {data_size} characters in the dataset, {vocab_dim} of them unique.')\n",
    "char_to_idx = { ch:i for i,ch in enumerate(chars) }\n",
    "idx_to_char = { i:ch for i,ch in enumerate(chars) }\n",
    "data = np.array([char_to_idx[s] for s in data])"
   ]
  },
  {
   "cell_type": "code",
   "execution_count": 126,
   "metadata": {},
   "outputs": [],
   "source": [
    "# Instantiate a class of the model we want. There are two cell type options, \"lstm\" and \"vanilla\"\n",
    "# input_dim: the one-hot vector of size vocab_dim to a lower dimensional representation of length input_dim\n",
    "# hidden_dim: size of the hidden layer\n",
    "# idx_to_char: unecessary for the actual model, but is convenient to let us convert model output integers to sentences\n",
    "# seq_length: number of characters for any given instance of the data.\n",
    "# lr: learning rate. The choice of optimizer is not implemented here, but must be changed in the source code.\n",
    "# the default is RMSprop. See optim.py for more choices, and solver.train() --> Optimizer for changing source code\n",
    "# num_iters: number of iterations\n",
    "# batch_size: mini_batch size for each update. A mini batch comprises 16 successive sequences. \n",
    "model = RNN(vocab_dim, idx_to_char, hidden_dim=200, input_dim=len(char_to_idx)//4, cell_type='lstm')\n",
    "solver = Solver(data, model, seq_length=50, lr=1e-2, num_iters=10000, batch_size = 16)"
   ]
  },
  {
   "cell_type": "code",
   "execution_count": null,
   "metadata": {},
   "outputs": [
    {
     "name": "stdout",
     "output_type": "stream",
     "text": [
      "Iteration 0/10000. Loss = 1.3010630690142597\n",
      "8mbeen lost recoming consistencent; unecessions or distinred \n",
      "None\n",
      "Iteration 100/10000. Loss = 1.051221598662974\n",
      "Iteration 200/10000. Loss = 1.0600751368888603\n",
      "Iteration 300/10000. Loss = 1.1560213110338726\n",
      "Iteration 400/10000. Loss = 1.1121986218246176\n",
      "Iteration 500/10000. Loss = 1.2000981000114501\n",
      "Iteration 600/10000. Loss = 1.1847351099829726\n",
      "Iteration 700/10000. Loss = 1.1754638830895348\n",
      "Iteration 800/10000. Loss = 1.214909690858251\n",
      "Iteration 900/10000. Loss = 1.18774530712927\n",
      "Iteration 1000/10000. Loss = 1.1868865729535536\n",
      "s\n",
      "      the evening are never entirely of these of cannot eno\n",
      "None\n",
      "Iteration 1100/10000. Loss = 1.1852020490971542\n",
      "Iteration 1200/10000. Loss = 1.171311176215531\n",
      "Iteration 1300/10000. Loss = 1.1245692715206612\n",
      "Iteration 1400/10000. Loss = 1.2572283324034508\n",
      "Iteration 1500/10000. Loss = 1.0999758295748998\n",
      "Iteration 1600/10000. Loss = 1.2309915277863026\n",
      "Iteration 1700/10000. Loss = 1.145691434655034\n",
      "Iteration 1800/10000. Loss = 1.1118495968667892\n",
      "Iteration 1900/10000. Loss = 1.2720016158013618\n",
      "Iteration 2000/10000. Loss = 1.21577909483018\n",
      "g in condescedation she no never to more cummin on wavey in t\n",
      "None\n",
      "Iteration 2100/10000. Loss = 1.1446399456666503\n",
      "Iteration 2200/10000. Loss = 1.1109233469526947\n",
      "Iteration 2300/10000. Loss = 1.0685315843474388\n",
      "Iteration 2400/10000. Loss = 1.1888279167668858\n",
      "Iteration 2500/10000. Loss = 1.114150060550314\n",
      "Iteration 2600/10000. Loss = 1.159587477010025\n",
      "Iteration 2700/10000. Loss = 1.1681085247019924\n",
      "Iteration 2800/10000. Loss = 1.1606950309001847\n",
      "Iteration 2900/10000. Loss = 1.1972804508065422\n",
      "Iteration 3000/10000. Loss = 1.1996176603164392\n",
      "is ill-made him a fallow, ret a family strong\n",
      "      as he,\n",
      "  \n",
      "None\n",
      "Iteration 3100/10000. Loss = 1.1493739902623132\n",
      "Iteration 3200/10000. Loss = 1.1870038385948551\n",
      "Iteration 3300/10000. Loss = 1.1832465532900789\n",
      "Iteration 3400/10000. Loss = 1.113703127393605\n",
      "Iteration 3500/10000. Loss = 1.2162626688627216\n",
      "Iteration 3600/10000. Loss = 1.1140321244064242\n",
      "Iteration 3700/10000. Loss = 1.1483368853170992\n",
      "Iteration 3800/10000. Loss = 1.168274152137499\n",
      "Iteration 3900/10000. Loss = 1.2204474504151785\n",
      "Iteration 4000/10000. Loss = 1.1178623180217753\n",
      "zond their regiment, and Mr.\n",
      "      Collins had set\n",
      "      long\n",
      "None\n",
      "Iteration 4100/10000. Loss = 1.1498114803255814\n",
      "Iteration 4200/10000. Loss = 1.1931787023271605\n",
      "Iteration 4300/10000. Loss = 1.142139111568291\n",
      "Iteration 4400/10000. Loss = 1.0449435118648223\n",
      "Iteration 4500/10000. Loss = 1.1521075007882555\n"
     ]
    }
   ],
   "source": [
    "\n",
    "solver.train()"
   ]
  },
  {
   "cell_type": "code",
   "execution_count": 128,
   "metadata": {},
   "outputs": [
    {
     "data": {
      "image/png": "[encoded data removed]",
      "text/plain": [
       "<Figure size 432x288 with 1 Axes>"
      ]
     },
     "metadata": {
      "needs_background": "light"
     },
     "output_type": "display_data"
    }
   ],
   "source": [
    "solver.plot_loss()"
   ]
  },
  {
   "cell_type": "code",
   "execution_count": 130,
   "metadata": {},
   "outputs": [
    {
     "name": "stdout",
     "output_type": "stream",
     "text": [
      "plicate and he did not found\n",
      "      have.,\n",
      "      and directly ordinable particular part proposed to difficuence, negnal turning them man in the pain know\n",
      "      took in the side, and promose to the name with from what it is, to aise not trantd he make to\n",
      "      rato\n",
      "      her to\n",
      "      answered\n",
      "       at tickhampended to any gentlatt! Do more to\n",
      "      which remained her figure for a value of all count, to dances left Elizabeth tourdey now to lyyersitant is very any rone of head, as does dine were gra\n",
      "None\n"
     ]
    }
   ],
   "source": [
    "print(model.sample(50, T=500))"
   ]
  },
  {
   "cell_type": "code",
   "execution_count": null,
   "metadata": {},
   "outputs": [],
   "source": []
  },
  {
   "cell_type": "code",
   "execution_count": null,
   "metadata": {},
   "outputs": [],
   "source": []
  },
  {
   "cell_type": "code",
   "execution_count": 131,
   "metadata": {},
   "outputs": [],
   "source": [
    "import pickle\n",
    "filehandler = open('model_lstm_h200,_T50_D22.txt', 'wb') \n",
    "pickle.dump(model, filehandler)\n",
    "# filehandler = open(filename, 'r') \n",
    "# object = pickle.load(filehandler)"
   ]
  },
  {
   "cell_type": "code",
   "execution_count": 92,
   "metadata": {},
   "outputs": [
    {
     "data": {
      "image/png": "[encoded data removed]",
      "text/plain": [
       "<Figure size 432x288 with 1 Axes>"
      ]
     },
     "metadata": {
      "needs_background": "light"
     },
     "output_type": "display_data"
    }
   ],
   "source": [
    "solver.plot_loss()"
   ]
  },
  {
   "cell_type": "code",
   "execution_count": 26,
   "metadata": {},
   "outputs": [
    {
     "data": {
      "text/plain": [
       "'Qing with she sand the should be to the sound and the dound the condent all her to as farthing to the was a repertanate the was so the pertand the will and was that of in to dere. and the prane so the conding the praing the were not in hirsting to sere and wich a pose the manters insing and mad the prould the her side so the lident, and to to the againt\\n      and a pleall ence at with at a prot wel'"
      ]
     },
     "execution_count": 26,
     "metadata": {},
     "output_type": "execute_result"
    }
   ],
   "source": [
    "model.sample(24, T=400)"
   ]
  },
  {
   "cell_type": "code",
   "execution_count": 52,
   "metadata": {},
   "outputs": [
    {
     "name": "stdout",
     "output_type": "stream",
     "text": [
      "Iteration 0/10000. Loss = 5.361850677230633\n",
      "ObvqiZIz’m)Gy“f-r”qIY3MXMVyfb$s2yV‘m 1g$4X—“kAla7-MccR:éhz0xA\n",
      "Iteration 100/10000. Loss = 2.9378594484805727\n",
      "Iteration 200/10000. Loss = 3.144687215316372\n",
      "Iteration 300/10000. Loss = 2.949261000108381\n",
      "Iteration 400/10000. Loss = 3.046173469565225\n",
      "Iteration 500/10000. Loss = 2.6776635434588165\n",
      "Iteration 600/10000. Loss = 2.519126017735358\n",
      "Iteration 700/10000. Loss = 2.0190431358370353\n",
      "Iteration 800/10000. Loss = 3.238781200428043\n",
      "Iteration 900/10000. Loss = 1.6895747765912217\n",
      "Iteration 1000/10000. Loss = 2.54560388989432\n",
      "\n",
      "      was mon mave s se of ange her f hurely wask co wirer i\n",
      "Iteration 1100/10000. Loss = 1.9082051823583601\n",
      "Iteration 1200/10000. Loss = 2.2201384173758965\n",
      "Iteration 1300/10000. Loss = 2.2971806569701596\n",
      "Iteration 1400/10000. Loss = 2.661411891318998\n",
      "Iteration 1500/10000. Loss = 1.8063895261103595\n",
      "Iteration 1600/10000. Loss = 2.4683728898631543\n",
      "Iteration 1700/10000. Loss = 1.9277046716268926\n",
      "Iteration 1800/10000. Loss = 2.2789307152739426\n",
      "Iteration 1900/10000. Loss = 1.904169880282015\n",
      "Iteration 2000/10000. Loss = 1.5753982507513227\n",
      " wate had in be hour note of and on an and rer as aud thoulou\n",
      "Iteration 2100/10000. Loss = 2.1078642049770484\n",
      "Iteration 2200/10000. Loss = 2.266808153934437\n",
      "Iteration 2300/10000. Loss = 1.8981998124539516\n",
      "Iteration 2400/10000. Loss = 1.8650571152521798\n",
      "Iteration 2500/10000. Loss = 2.390945354668264\n",
      "Iteration 2600/10000. Loss = 2.301318364343752\n",
      "Iteration 2700/10000. Loss = 1.478853050655546\n",
      "Iteration 2800/10000. Loss = 1.4816262116329255\n",
      "Iteration 2900/10000. Loss = 2.089228957850351\n",
      "Iteration 3000/10000. Loss = 2.2931220233149276\n",
      "Bing tov.\n",
      "      of not morisey they binping somed aplehto\n",
      "   \n",
      "Iteration 3100/10000. Loss = 2.041258183597992\n",
      "Iteration 3200/10000. Loss = 1.4912317268534507\n",
      "Iteration 3300/10000. Loss = 2.7216648909375714\n",
      "Iteration 3400/10000. Loss = 2.1874476935706113\n",
      "Iteration 3500/10000. Loss = 2.6999123665249236\n",
      "Iteration 3600/10000. Loss = 2.495867073663591\n",
      "Iteration 3700/10000. Loss = 1.498836239777969\n",
      "Iteration 3800/10000. Loss = 2.287241491109122\n",
      "Iteration 3900/10000. Loss = 2.2947659179818456\n",
      "Iteration 4000/10000. Loss = 2.558146787855646\n",
      "%omely, susision sow and and\n",
      "      horst, noncesensjess one i\n",
      "Iteration 4100/10000. Loss = 2.395695332197799\n",
      "Iteration 4200/10000. Loss = 1.5755560478932944\n",
      "Iteration 4300/10000. Loss = 2.2379587448423015\n",
      "Iteration 4400/10000. Loss = 1.9502876297869798\n",
      "Iteration 4500/10000. Loss = 1.993839562288186\n",
      "Iteration 4600/10000. Loss = 1.7066755770687474\n",
      "Iteration 4700/10000. Loss = 1.7226186230899043\n",
      "Iteration 4800/10000. Loss = 1.828067953214965\n",
      "Iteration 4900/10000. Loss = 2.004253388584546\n",
      "Iteration 5000/10000. Loss = 2.329206528863901\n",
      "Eteribunes onenes ersering hovent an andeewerintene\n",
      "      ase\n",
      "Iteration 5100/10000. Loss = 2.2169577798326605\n",
      "Iteration 5200/10000. Loss = 2.3767416471364315\n",
      "Iteration 5300/10000. Loss = 2.0816432483653573\n",
      "Iteration 5400/10000. Loss = 2.144992031907795\n",
      "Iteration 5500/10000. Loss = 1.2346776596196891\n",
      "Iteration 5600/10000. Loss = 2.159503408923724\n",
      "Iteration 5700/10000. Loss = 2.0296407736531217\n",
      "Iteration 5800/10000. Loss = 1.514823665842954\n",
      "Iteration 5900/10000. Loss = 2.0244003653154987\n",
      "Iteration 6000/10000. Loss = 2.2525925730674654\n",
      "Q dokn sosed. At she was modengs, and and gresss bon what he\n",
      "\n",
      "Iteration 6100/10000. Loss = 1.1740685416155292\n",
      "Iteration 6200/10000. Loss = 1.723645328641231\n",
      "Iteration 6300/10000. Loss = 1.4985475932762844\n",
      "Iteration 6400/10000. Loss = 1.5045376466294267\n",
      "Iteration 6500/10000. Loss = 2.0122330968539326\n",
      "Iteration 6600/10000. Loss = 1.9382170012388553\n",
      "Iteration 6700/10000. Loss = 1.6038239532309175\n",
      "Iteration 6800/10000. Loss = 2.8506494502220217\n",
      "Iteration 6900/10000. Loss = 2.0198407725898546\n",
      "Iteration 7000/10000. Loss = 1.858044016780594\n",
      "? in had for Mr. Buchad whe ciried suped, I and the wes veric\n",
      "Iteration 7100/10000. Loss = 1.541000834255561\n",
      "Iteration 7200/10000. Loss = 1.265415841939108\n",
      "Iteration 7300/10000. Loss = 1.8068608653437233\n",
      "Iteration 7400/10000. Loss = 2.126482746047989\n",
      "Iteration 7500/10000. Loss = 1.3459483773873826\n",
      "Iteration 7600/10000. Loss = 2.1435403967117534\n",
      "Iteration 7700/10000. Loss = 0.8587944357979902\n",
      "Iteration 7800/10000. Loss = 1.9953277964385034\n",
      "Iteration 7900/10000. Loss = 1.5381894533693652\n",
      "Iteration 8000/10000. Loss = 1.7072987401584023\n",
      "R that were the seeruag ackist nd wolliny.” chect very in bea\n",
      "Iteration 8100/10000. Loss = 2.3733445099155452\n",
      "Iteration 8200/10000. Loss = 1.9087627773132652\n",
      "Iteration 8300/10000. Loss = 1.4693424664774741\n",
      "Iteration 8400/10000. Loss = 1.6694961278822043\n",
      "Iteration 8500/10000. Loss = 2.083432042252671\n",
      "Iteration 8600/10000. Loss = 2.3487723079231784\n",
      "Iteration 8700/10000. Loss = 2.138217827405744\n",
      "Iteration 8800/10000. Loss = 1.6483054551399372\n",
      "Iteration 8900/10000. Loss = 1.9086137412937774\n",
      "Iteration 9000/10000. Loss = 2.3401340567643953\n",
      "xally the could it she whome\n",
      "      spelinces that his was not\n",
      "Iteration 9100/10000. Loss = 1.7717841806348886\n",
      "Iteration 9200/10000. Loss = 1.9353931025360196\n",
      "Iteration 9300/10000. Loss = 1.9144860960840404\n",
      "Iteration 9400/10000. Loss = 1.9616522348239696\n",
      "Iteration 9500/10000. Loss = 1.4066043215740254\n",
      "Iteration 9600/10000. Loss = 1.402619736885854\n",
      "Iteration 9700/10000. Loss = 2.116189677115678\n",
      "Iteration 9800/10000. Loss = 2.0515460822199607\n",
      "Iteration 9900/10000. Loss = 1.7731270096466045\n",
      "0.00686589399992954\n"
     ]
    }
   ],
   "source": [
    "import timeit\n",
    "tic = timeit.timeit()\n",
    "model = RNN(vocab_dim, idx_to_char, hidden_dim=100, input_dim=len(char_to_idx), cell_type='vanilla')\n",
    "solver = Solver(data, model,seq_length=25, lr=1e-1, num_iters=10000, batch_size = 1)\n",
    "solver.train()\n",
    "toc = timeit.timeit()\n",
    "print(toc-tic)"
   ]
  },
  {
   "cell_type": "code",
   "execution_count": 53,
   "metadata": {},
   "outputs": [
    {
     "data": {
      "image/png": "[encoded data removed]",
      "text/plain": [
       "<Figure size 432x288 with 1 Axes>"
      ]
     },
     "metadata": {
      "needs_background": "light"
     },
     "output_type": "display_data"
    }
   ],
   "source": [
    "solver.plot_loss()"
   ]
  },
  {
   "cell_type": "code",
   "execution_count": 58,
   "metadata": {
    "scrolled": true
   },
   "outputs": [
    {
     "name": "stdout",
     "output_type": "stream",
     "text": [
      "ct Mr. Bim all cimh make inted the\n",
      "      all beenced nef\n",
      "      deacled” all dacted peef manf. It cel: net and at cect the mort was all cind ancest the mucale was ef an that bellace mancedf man, and I dectun more a dearses than chaply, and not cane the care of exce what chinkd the all that affonto that the poo my ad deen she depere paived nont of the pleed deally mos\n",
      "      cauld thimy that ofcenved \n"
     ]
    }
   ],
   "source": [
    "print(model.sample(20, T=400))"
   ]
  },
  {
   "cell_type": "code",
   "execution_count": null,
   "metadata": {},
   "outputs": [],
   "source": [
    "filehandler = open('model_vanilla_h100,_T25', 'w') \n",
    "pickle.dump(model, filehandler)"
   ]
  },
  {
   "cell_type": "code",
   "execution_count": 7,
   "metadata": {},
   "outputs": [
    {
     "data": {
      "text/plain": [
       "'H'"
      ]
     },
     "execution_count": 7,
     "metadata": {},
     "output_type": "execute_result"
    }
   ],
   "source": [
    "idx_to_char[14]"
   ]
  },
  {
   "cell_type": "code",
   "execution_count": 60,
   "metadata": {},
   "outputs": [],
   "source": [
    "filehandler = open('model_lstm_h100,_T25.txt', 'rb') \n",
    "model1 = pickle.load(filehandler)"
   ]
  },
  {
   "cell_type": "code",
   "execution_count": 66,
   "metadata": {},
   "outputs": [
    {
     "name": "stdout",
     "output_type": "stream",
     "text": [
      "cher concely\n",
      "      mame now any vuty herysurdmented to dept in forsust Ow Tish She beriserbeduserres\n",
      "      im, and I\n",
      "      matther, thee thit, and gery onser. loom haddentionl\n",
      "      litron of —tomine, \n"
     ]
    }
   ],
   "source": [
    "print(model1.sample(20))"
   ]
  },
  {
   "cell_type": "code",
   "execution_count": null,
   "metadata": {},
   "outputs": [],
   "source": []
  }
 ],
 "metadata": {
  "kernelspec": {
   "display_name": "Python 3",
   "language": "python",
   "name": "python3"
  },
  "language_info": {
   "codemirror_mode": {
    "name": "ipython",
    "version": 3
   },
   "file_extension": ".py",
   "mimetype": "text/x-python",
   "name": "python",
   "nbconvert_exporter": "python",
   "pygments_lexer": "ipython3",
   "version": "3.7.4"
  }
 },
 "nbformat": 4,
 "nbformat_minor": 4
}
